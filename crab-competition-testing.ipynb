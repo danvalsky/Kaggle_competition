{
 "cells": [
  {
   "cell_type": "markdown",
   "id": "e52aabac",
   "metadata": {
    "papermill": {
     "duration": 0.005421,
     "end_time": "2023-06-14T11:14:42.686194",
     "exception": false,
     "start_time": "2023-06-14T11:14:42.680773",
     "status": "completed"
    },
    "tags": []
   },
   "source": [
    "## Goal of this notebook: reaching a score below 1.37 on the crab competition\n",
    "Many entries in the leaderboard are around 1.33\n"
   ]
  },
  {
   "cell_type": "code",
   "execution_count": 1,
   "id": "4ed9ffbf",
   "metadata": {
    "_cell_guid": "b1076dfc-b9ad-4769-8c92-a6c4dae69d19",
    "_uuid": "8f2839f25d086af736a60e9eeb907d3b93b6e0e5",
    "execution": {
     "iopub.execute_input": "2023-06-14T11:14:42.701654Z",
     "iopub.status.busy": "2023-06-14T11:14:42.700647Z",
     "iopub.status.idle": "2023-06-14T11:14:44.469282Z",
     "shell.execute_reply": "2023-06-14T11:14:44.468109Z"
    },
    "papermill": {
     "duration": 1.779065,
     "end_time": "2023-06-14T11:14:44.471779",
     "exception": false,
     "start_time": "2023-06-14T11:14:42.692714",
     "status": "completed"
    },
    "tags": []
   },
   "outputs": [],
   "source": [
    "import numpy as np\n",
    "import pandas as pd\n",
    "from sklearn.model_selection import StratifiedKFold\n",
    "from sklearn.tree import DecisionTreeRegressor, DecisionTreeClassifier\n",
    "from sklearn.linear_model import LinearRegression\n",
    "from sklearn.preprocessing import OneHotEncoder\n",
    "import xgboost as xg\n",
    "\n",
    "from sklearn.compose import make_column_transformer\n",
    "from sklearn.pipeline import make_pipeline"
   ]
  },
  {
   "cell_type": "markdown",
   "id": "baa15999",
   "metadata": {
    "papermill": {
     "duration": 0.004589,
     "end_time": "2023-06-14T11:14:44.481450",
     "exception": false,
     "start_time": "2023-06-14T11:14:44.476861",
     "status": "completed"
    },
    "tags": []
   },
   "source": [
    "Read synthetic data to enlarge the training dataset"
   ]
  },
  {
   "cell_type": "code",
   "execution_count": 2,
   "id": "59825eaa",
   "metadata": {
    "execution": {
     "iopub.execute_input": "2023-06-14T11:14:44.492847Z",
     "iopub.status.busy": "2023-06-14T11:14:44.492491Z",
     "iopub.status.idle": "2023-06-14T11:14:44.733799Z",
     "shell.execute_reply": "2023-06-14T11:14:44.732618Z"
    },
    "papermill": {
     "duration": 0.250073,
     "end_time": "2023-06-14T11:14:44.736406",
     "exception": false,
     "start_time": "2023-06-14T11:14:44.486333",
     "status": "completed"
    },
    "tags": []
   },
   "outputs": [
    {
     "data": {
      "text/html": [
       "<div>\n",
       "<style scoped>\n",
       "    .dataframe tbody tr th:only-of-type {\n",
       "        vertical-align: middle;\n",
       "    }\n",
       "\n",
       "    .dataframe tbody tr th {\n",
       "        vertical-align: top;\n",
       "    }\n",
       "\n",
       "    .dataframe thead th {\n",
       "        text-align: right;\n",
       "    }\n",
       "</style>\n",
       "<table border=\"1\" class=\"dataframe\">\n",
       "  <thead>\n",
       "    <tr style=\"text-align: right;\">\n",
       "      <th></th>\n",
       "      <th>id</th>\n",
       "      <th>Sex</th>\n",
       "      <th>Length</th>\n",
       "      <th>Diameter</th>\n",
       "      <th>Height</th>\n",
       "      <th>Weight</th>\n",
       "      <th>Shucked Weight</th>\n",
       "      <th>Viscera Weight</th>\n",
       "      <th>Shell Weight</th>\n",
       "      <th>Age</th>\n",
       "      <th>is_M</th>\n",
       "      <th>is_F</th>\n",
       "      <th>is_I</th>\n",
       "    </tr>\n",
       "  </thead>\n",
       "  <tbody>\n",
       "    <tr>\n",
       "      <th>0</th>\n",
       "      <td>0</td>\n",
       "      <td>I</td>\n",
       "      <td>1.5250</td>\n",
       "      <td>1.1750</td>\n",
       "      <td>0.3750</td>\n",
       "      <td>28.973189</td>\n",
       "      <td>12.728926</td>\n",
       "      <td>6.647958</td>\n",
       "      <td>8.348928</td>\n",
       "      <td>9.0</td>\n",
       "      <td>False</td>\n",
       "      <td>False</td>\n",
       "      <td>True</td>\n",
       "    </tr>\n",
       "    <tr>\n",
       "      <th>1</th>\n",
       "      <td>1</td>\n",
       "      <td>I</td>\n",
       "      <td>1.1000</td>\n",
       "      <td>0.8250</td>\n",
       "      <td>0.2750</td>\n",
       "      <td>10.418441</td>\n",
       "      <td>4.521745</td>\n",
       "      <td>2.324659</td>\n",
       "      <td>3.401940</td>\n",
       "      <td>8.0</td>\n",
       "      <td>False</td>\n",
       "      <td>False</td>\n",
       "      <td>True</td>\n",
       "    </tr>\n",
       "    <tr>\n",
       "      <th>2</th>\n",
       "      <td>2</td>\n",
       "      <td>M</td>\n",
       "      <td>1.3875</td>\n",
       "      <td>1.1125</td>\n",
       "      <td>0.3750</td>\n",
       "      <td>24.777463</td>\n",
       "      <td>11.339800</td>\n",
       "      <td>5.556502</td>\n",
       "      <td>6.662133</td>\n",
       "      <td>9.0</td>\n",
       "      <td>True</td>\n",
       "      <td>False</td>\n",
       "      <td>False</td>\n",
       "    </tr>\n",
       "    <tr>\n",
       "      <th>3</th>\n",
       "      <td>3</td>\n",
       "      <td>F</td>\n",
       "      <td>1.7000</td>\n",
       "      <td>1.4125</td>\n",
       "      <td>0.5000</td>\n",
       "      <td>50.660556</td>\n",
       "      <td>20.354941</td>\n",
       "      <td>10.991839</td>\n",
       "      <td>14.996885</td>\n",
       "      <td>11.0</td>\n",
       "      <td>False</td>\n",
       "      <td>True</td>\n",
       "      <td>False</td>\n",
       "    </tr>\n",
       "    <tr>\n",
       "      <th>4</th>\n",
       "      <td>4</td>\n",
       "      <td>I</td>\n",
       "      <td>1.2500</td>\n",
       "      <td>1.0125</td>\n",
       "      <td>0.3375</td>\n",
       "      <td>23.289114</td>\n",
       "      <td>11.977664</td>\n",
       "      <td>4.507570</td>\n",
       "      <td>5.953395</td>\n",
       "      <td>8.0</td>\n",
       "      <td>False</td>\n",
       "      <td>False</td>\n",
       "      <td>True</td>\n",
       "    </tr>\n",
       "  </tbody>\n",
       "</table>\n",
       "</div>"
      ],
      "text/plain": [
       "   id Sex  Length  Diameter  Height     Weight  Shucked Weight  \\\n",
       "0   0   I  1.5250    1.1750  0.3750  28.973189       12.728926   \n",
       "1   1   I  1.1000    0.8250  0.2750  10.418441        4.521745   \n",
       "2   2   M  1.3875    1.1125  0.3750  24.777463       11.339800   \n",
       "3   3   F  1.7000    1.4125  0.5000  50.660556       20.354941   \n",
       "4   4   I  1.2500    1.0125  0.3375  23.289114       11.977664   \n",
       "\n",
       "   Viscera Weight  Shell Weight   Age   is_M   is_F   is_I  \n",
       "0        6.647958      8.348928   9.0  False  False   True  \n",
       "1        2.324659      3.401940   8.0  False  False   True  \n",
       "2        5.556502      6.662133   9.0   True  False  False  \n",
       "3       10.991839     14.996885  11.0  False   True  False  \n",
       "4        4.507570      5.953395   8.0  False  False   True  "
      ]
     },
     "execution_count": 2,
     "metadata": {},
     "output_type": "execute_result"
    }
   ],
   "source": [
    "df_train = pd.read_csv('/kaggle/input/playground-series-s3e16/train.csv')\n",
    "df_synth = pd.read_csv('/kaggle/input/make-synthetic-crab-age-data/synthetic_data.csv')\n",
    "\n",
    "df_combined = pd.concat((df_train, df_synth))\n",
    "df_combined.head()\n",
    "# sex_ohe = OneHotEncoder().fit_transform(df_combined[['Sex']]) # why not to use this one?\n",
    "for s in 'MFI':\n",
    "    df_combined[f'is_{s}'] = df_combined.Sex == s\n",
    "df_combined.head()"
   ]
  },
  {
   "cell_type": "code",
   "execution_count": 3,
   "id": "0c989058",
   "metadata": {
    "execution": {
     "iopub.execute_input": "2023-06-14T11:14:44.749836Z",
     "iopub.status.busy": "2023-06-14T11:14:44.749490Z",
     "iopub.status.idle": "2023-06-14T11:14:44.765277Z",
     "shell.execute_reply": "2023-06-14T11:14:44.764104Z"
    },
    "papermill": {
     "duration": 0.024538,
     "end_time": "2023-06-14T11:14:44.767648",
     "exception": false,
     "start_time": "2023-06-14T11:14:44.743110",
     "status": "completed"
    },
    "tags": []
   },
   "outputs": [
    {
     "data": {
      "text/html": [
       "<div>\n",
       "<style scoped>\n",
       "    .dataframe tbody tr th:only-of-type {\n",
       "        vertical-align: middle;\n",
       "    }\n",
       "\n",
       "    .dataframe tbody tr th {\n",
       "        vertical-align: top;\n",
       "    }\n",
       "\n",
       "    .dataframe thead th {\n",
       "        text-align: right;\n",
       "    }\n",
       "</style>\n",
       "<table border=\"1\" class=\"dataframe\">\n",
       "  <thead>\n",
       "    <tr style=\"text-align: right;\">\n",
       "      <th></th>\n",
       "      <th>id</th>\n",
       "      <th>Sex</th>\n",
       "      <th>Length</th>\n",
       "      <th>Diameter</th>\n",
       "      <th>Height</th>\n",
       "      <th>Weight</th>\n",
       "      <th>Shucked Weight</th>\n",
       "      <th>Viscera Weight</th>\n",
       "      <th>Shell Weight</th>\n",
       "      <th>Age</th>\n",
       "    </tr>\n",
       "  </thead>\n",
       "  <tbody>\n",
       "    <tr>\n",
       "      <th>0</th>\n",
       "      <td>0</td>\n",
       "      <td>F</td>\n",
       "      <td>1.5500</td>\n",
       "      <td>1.2000</td>\n",
       "      <td>0.4125</td>\n",
       "      <td>26.435909</td>\n",
       "      <td>8.320578</td>\n",
       "      <td>5.244657</td>\n",
       "      <td>9.029316</td>\n",
       "      <td>20.0</td>\n",
       "    </tr>\n",
       "    <tr>\n",
       "      <th>1</th>\n",
       "      <td>1</td>\n",
       "      <td>I</td>\n",
       "      <td>1.3625</td>\n",
       "      <td>1.1000</td>\n",
       "      <td>0.3750</td>\n",
       "      <td>21.729892</td>\n",
       "      <td>9.525432</td>\n",
       "      <td>4.819415</td>\n",
       "      <td>6.803880</td>\n",
       "      <td>9.0</td>\n",
       "    </tr>\n",
       "    <tr>\n",
       "      <th>2</th>\n",
       "      <td>2</td>\n",
       "      <td>I</td>\n",
       "      <td>0.6500</td>\n",
       "      <td>0.5000</td>\n",
       "      <td>0.1750</td>\n",
       "      <td>2.721552</td>\n",
       "      <td>1.048931</td>\n",
       "      <td>0.524466</td>\n",
       "      <td>0.850485</td>\n",
       "      <td>5.0</td>\n",
       "    </tr>\n",
       "    <tr>\n",
       "      <th>3</th>\n",
       "      <td>3</td>\n",
       "      <td>M</td>\n",
       "      <td>1.3625</td>\n",
       "      <td>1.0125</td>\n",
       "      <td>0.3500</td>\n",
       "      <td>18.809893</td>\n",
       "      <td>7.937860</td>\n",
       "      <td>4.124852</td>\n",
       "      <td>5.953395</td>\n",
       "      <td>9.0</td>\n",
       "    </tr>\n",
       "    <tr>\n",
       "      <th>4</th>\n",
       "      <td>4</td>\n",
       "      <td>I</td>\n",
       "      <td>1.1000</td>\n",
       "      <td>0.7750</td>\n",
       "      <td>0.2875</td>\n",
       "      <td>10.276694</td>\n",
       "      <td>4.946988</td>\n",
       "      <td>2.197086</td>\n",
       "      <td>2.834950</td>\n",
       "      <td>7.0</td>\n",
       "    </tr>\n",
       "  </tbody>\n",
       "</table>\n",
       "</div>"
      ],
      "text/plain": [
       "   id Sex  Length  Diameter  Height     Weight  Shucked Weight  \\\n",
       "0   0   F  1.5500    1.2000  0.4125  26.435909        8.320578   \n",
       "1   1   I  1.3625    1.1000  0.3750  21.729892        9.525432   \n",
       "2   2   I  0.6500    0.5000  0.1750   2.721552        1.048931   \n",
       "3   3   M  1.3625    1.0125  0.3500  18.809893        7.937860   \n",
       "4   4   I  1.1000    0.7750  0.2875  10.276694        4.946988   \n",
       "\n",
       "   Viscera Weight  Shell Weight   Age  \n",
       "0        5.244657      9.029316  20.0  \n",
       "1        4.819415      6.803880   9.0  \n",
       "2        0.524466      0.850485   5.0  \n",
       "3        4.124852      5.953395   9.0  \n",
       "4        2.197086      2.834950   7.0  "
      ]
     },
     "execution_count": 3,
     "metadata": {},
     "output_type": "execute_result"
    }
   ],
   "source": [
    "df_synth.head()"
   ]
  },
  {
   "cell_type": "code",
   "execution_count": 4,
   "id": "ec8c1c8c",
   "metadata": {
    "execution": {
     "iopub.execute_input": "2023-06-14T11:14:44.781803Z",
     "iopub.status.busy": "2023-06-14T11:14:44.781450Z",
     "iopub.status.idle": "2023-06-14T11:14:44.793582Z",
     "shell.execute_reply": "2023-06-14T11:14:44.792662Z"
    },
    "papermill": {
     "duration": 0.022681,
     "end_time": "2023-06-14T11:14:44.795812",
     "exception": false,
     "start_time": "2023-06-14T11:14:44.773131",
     "status": "completed"
    },
    "tags": []
   },
   "outputs": [
    {
     "data": {
      "text/plain": [
       "array(['I', 'M', 'F'], dtype=object)"
      ]
     },
     "execution_count": 4,
     "metadata": {},
     "output_type": "execute_result"
    }
   ],
   "source": [
    "df_train.Sex.unique()"
   ]
  },
  {
   "cell_type": "code",
   "execution_count": 5,
   "id": "0fa7e07e",
   "metadata": {
    "execution": {
     "iopub.execute_input": "2023-06-14T11:14:44.808873Z",
     "iopub.status.busy": "2023-06-14T11:14:44.808503Z",
     "iopub.status.idle": "2023-06-14T11:14:44.864377Z",
     "shell.execute_reply": "2023-06-14T11:14:44.863387Z"
    },
    "papermill": {
     "duration": 0.065397,
     "end_time": "2023-06-14T11:14:44.866904",
     "exception": false,
     "start_time": "2023-06-14T11:14:44.801507",
     "status": "completed"
    },
    "tags": []
   },
   "outputs": [],
   "source": [
    "\n",
    "df_train_dv = df_train\n",
    "categories = [('Sex',['F','I','M'])]\n",
    "ohe_columns = [x[0] for x in categories]\n",
    "ohe_categories = [x[1] for x in categories]\n",
    "enc = OneHotEncoder(sparse_output=False, categories=ohe_categories)\n",
    "\n",
    "# We create a column transformer telling it to replace the columns which hold the categories and leave the rest untouched.\n",
    "# The column transformer does not create the pandas DataFrame, but it selects the appropriate columns, converts them and appends the converted columns to the other ones.\n",
    "transformer = make_column_transformer((enc, ohe_columns), remainder='passthrough')\n",
    "\n",
    "# We convert the resulting arrays to DataFrames\n",
    "transformed=transformer.fit_transform(df_train_dv)\n",
    "\n",
    "df_train_dv = pd.DataFrame(transformed, columns=transformer.get_feature_names_out(),index=df_train_dv.index)\n",
    "\n"
   ]
  },
  {
   "cell_type": "code",
   "execution_count": 6,
   "id": "452c1d15",
   "metadata": {
    "execution": {
     "iopub.execute_input": "2023-06-14T11:14:44.879877Z",
     "iopub.status.busy": "2023-06-14T11:14:44.879479Z",
     "iopub.status.idle": "2023-06-14T11:14:44.887624Z",
     "shell.execute_reply": "2023-06-14T11:14:44.886517Z"
    },
    "papermill": {
     "duration": 0.017105,
     "end_time": "2023-06-14T11:14:44.889698",
     "exception": false,
     "start_time": "2023-06-14T11:14:44.872593",
     "status": "completed"
    },
    "tags": []
   },
   "outputs": [
    {
     "data": {
      "text/plain": [
       "0     9.0\n",
       "1     8.0\n",
       "2     9.0\n",
       "3    11.0\n",
       "4     8.0\n",
       "Name: remainder__Age, dtype: float64"
      ]
     },
     "execution_count": 6,
     "metadata": {},
     "output_type": "execute_result"
    }
   ],
   "source": [
    "y = df_train_dv.remainder__Age\n",
    "y.head()"
   ]
  },
  {
   "cell_type": "code",
   "execution_count": 7,
   "id": "63d9d2cd",
   "metadata": {
    "execution": {
     "iopub.execute_input": "2023-06-14T11:14:44.902556Z",
     "iopub.status.busy": "2023-06-14T11:14:44.902207Z",
     "iopub.status.idle": "2023-06-14T11:14:44.923926Z",
     "shell.execute_reply": "2023-06-14T11:14:44.922868Z"
    },
    "papermill": {
     "duration": 0.030863,
     "end_time": "2023-06-14T11:14:44.926096",
     "exception": false,
     "start_time": "2023-06-14T11:14:44.895233",
     "status": "completed"
    },
    "tags": []
   },
   "outputs": [
    {
     "data": {
      "text/html": [
       "<div>\n",
       "<style scoped>\n",
       "    .dataframe tbody tr th:only-of-type {\n",
       "        vertical-align: middle;\n",
       "    }\n",
       "\n",
       "    .dataframe tbody tr th {\n",
       "        vertical-align: top;\n",
       "    }\n",
       "\n",
       "    .dataframe thead th {\n",
       "        text-align: right;\n",
       "    }\n",
       "</style>\n",
       "<table border=\"1\" class=\"dataframe\">\n",
       "  <thead>\n",
       "    <tr style=\"text-align: right;\">\n",
       "      <th></th>\n",
       "      <th>onehotencoder__Sex_F</th>\n",
       "      <th>onehotencoder__Sex_I</th>\n",
       "      <th>onehotencoder__Sex_M</th>\n",
       "      <th>remainder__Length</th>\n",
       "      <th>remainder__Diameter</th>\n",
       "      <th>remainder__Height</th>\n",
       "      <th>remainder__Weight</th>\n",
       "      <th>remainder__Shucked Weight</th>\n",
       "      <th>remainder__Viscera Weight</th>\n",
       "      <th>remainder__Shell Weight</th>\n",
       "    </tr>\n",
       "  </thead>\n",
       "  <tbody>\n",
       "    <tr>\n",
       "      <th>0</th>\n",
       "      <td>0.0</td>\n",
       "      <td>1.0</td>\n",
       "      <td>0.0</td>\n",
       "      <td>1.5250</td>\n",
       "      <td>1.1750</td>\n",
       "      <td>0.3750</td>\n",
       "      <td>28.973189</td>\n",
       "      <td>12.728926</td>\n",
       "      <td>6.647958</td>\n",
       "      <td>8.348928</td>\n",
       "    </tr>\n",
       "    <tr>\n",
       "      <th>1</th>\n",
       "      <td>0.0</td>\n",
       "      <td>1.0</td>\n",
       "      <td>0.0</td>\n",
       "      <td>1.1000</td>\n",
       "      <td>0.8250</td>\n",
       "      <td>0.2750</td>\n",
       "      <td>10.418441</td>\n",
       "      <td>4.521745</td>\n",
       "      <td>2.324659</td>\n",
       "      <td>3.401940</td>\n",
       "    </tr>\n",
       "    <tr>\n",
       "      <th>2</th>\n",
       "      <td>0.0</td>\n",
       "      <td>0.0</td>\n",
       "      <td>1.0</td>\n",
       "      <td>1.3875</td>\n",
       "      <td>1.1125</td>\n",
       "      <td>0.3750</td>\n",
       "      <td>24.777463</td>\n",
       "      <td>11.339800</td>\n",
       "      <td>5.556502</td>\n",
       "      <td>6.662133</td>\n",
       "    </tr>\n",
       "    <tr>\n",
       "      <th>3</th>\n",
       "      <td>1.0</td>\n",
       "      <td>0.0</td>\n",
       "      <td>0.0</td>\n",
       "      <td>1.7000</td>\n",
       "      <td>1.4125</td>\n",
       "      <td>0.5000</td>\n",
       "      <td>50.660556</td>\n",
       "      <td>20.354941</td>\n",
       "      <td>10.991839</td>\n",
       "      <td>14.996885</td>\n",
       "    </tr>\n",
       "    <tr>\n",
       "      <th>4</th>\n",
       "      <td>0.0</td>\n",
       "      <td>1.0</td>\n",
       "      <td>0.0</td>\n",
       "      <td>1.2500</td>\n",
       "      <td>1.0125</td>\n",
       "      <td>0.3375</td>\n",
       "      <td>23.289114</td>\n",
       "      <td>11.977664</td>\n",
       "      <td>4.507570</td>\n",
       "      <td>5.953395</td>\n",
       "    </tr>\n",
       "  </tbody>\n",
       "</table>\n",
       "</div>"
      ],
      "text/plain": [
       "   onehotencoder__Sex_F  onehotencoder__Sex_I  onehotencoder__Sex_M  \\\n",
       "0                   0.0                   1.0                   0.0   \n",
       "1                   0.0                   1.0                   0.0   \n",
       "2                   0.0                   0.0                   1.0   \n",
       "3                   1.0                   0.0                   0.0   \n",
       "4                   0.0                   1.0                   0.0   \n",
       "\n",
       "   remainder__Length  remainder__Diameter  remainder__Height  \\\n",
       "0             1.5250               1.1750             0.3750   \n",
       "1             1.1000               0.8250             0.2750   \n",
       "2             1.3875               1.1125             0.3750   \n",
       "3             1.7000               1.4125             0.5000   \n",
       "4             1.2500               1.0125             0.3375   \n",
       "\n",
       "   remainder__Weight  remainder__Shucked Weight  remainder__Viscera Weight  \\\n",
       "0          28.973189                  12.728926                   6.647958   \n",
       "1          10.418441                   4.521745                   2.324659   \n",
       "2          24.777463                  11.339800                   5.556502   \n",
       "3          50.660556                  20.354941                  10.991839   \n",
       "4          23.289114                  11.977664                   4.507570   \n",
       "\n",
       "   remainder__Shell Weight  \n",
       "0                 8.348928  \n",
       "1                 3.401940  \n",
       "2                 6.662133  \n",
       "3                14.996885  \n",
       "4                 5.953395  "
      ]
     },
     "execution_count": 7,
     "metadata": {},
     "output_type": "execute_result"
    }
   ],
   "source": [
    "X = df_train_dv.drop([\"remainder__Age\",\"remainder__id\"],axis=1)\n",
    "X.head()\n",
    "#X.shape"
   ]
  },
  {
   "cell_type": "code",
   "execution_count": 8,
   "id": "1fbf7688",
   "metadata": {
    "execution": {
     "iopub.execute_input": "2023-06-14T11:14:44.939519Z",
     "iopub.status.busy": "2023-06-14T11:14:44.939163Z",
     "iopub.status.idle": "2023-06-14T11:14:44.955137Z",
     "shell.execute_reply": "2023-06-14T11:14:44.954097Z"
    },
    "papermill": {
     "duration": 0.025302,
     "end_time": "2023-06-14T11:14:44.957272",
     "exception": false,
     "start_time": "2023-06-14T11:14:44.931970",
     "status": "completed"
    },
    "tags": []
   },
   "outputs": [
    {
     "data": {
      "text/html": [
       "<div>\n",
       "<style scoped>\n",
       "    .dataframe tbody tr th:only-of-type {\n",
       "        vertical-align: middle;\n",
       "    }\n",
       "\n",
       "    .dataframe tbody tr th {\n",
       "        vertical-align: top;\n",
       "    }\n",
       "\n",
       "    .dataframe thead th {\n",
       "        text-align: right;\n",
       "    }\n",
       "</style>\n",
       "<table border=\"1\" class=\"dataframe\">\n",
       "  <thead>\n",
       "    <tr style=\"text-align: right;\">\n",
       "      <th></th>\n",
       "      <th>onehotencoder__Sex_F</th>\n",
       "      <th>onehotencoder__Sex_I</th>\n",
       "      <th>onehotencoder__Sex_M</th>\n",
       "      <th>remainder__Length</th>\n",
       "      <th>remainder__Diameter</th>\n",
       "      <th>remainder__Height</th>\n",
       "      <th>remainder__Weight</th>\n",
       "      <th>remainder__Shucked Weight</th>\n",
       "      <th>remainder__Viscera Weight</th>\n",
       "      <th>remainder__Shell Weight</th>\n",
       "    </tr>\n",
       "  </thead>\n",
       "  <tbody>\n",
       "    <tr>\n",
       "      <th>0</th>\n",
       "      <td>0.0</td>\n",
       "      <td>1.0</td>\n",
       "      <td>0.0</td>\n",
       "      <td>1.5250</td>\n",
       "      <td>1.1750</td>\n",
       "      <td>0.3750</td>\n",
       "      <td>28.973189</td>\n",
       "      <td>12.728926</td>\n",
       "      <td>6.647958</td>\n",
       "      <td>8.348928</td>\n",
       "    </tr>\n",
       "    <tr>\n",
       "      <th>1</th>\n",
       "      <td>0.0</td>\n",
       "      <td>1.0</td>\n",
       "      <td>0.0</td>\n",
       "      <td>1.1000</td>\n",
       "      <td>0.8250</td>\n",
       "      <td>0.2750</td>\n",
       "      <td>10.418441</td>\n",
       "      <td>4.521745</td>\n",
       "      <td>2.324659</td>\n",
       "      <td>3.401940</td>\n",
       "    </tr>\n",
       "    <tr>\n",
       "      <th>2</th>\n",
       "      <td>0.0</td>\n",
       "      <td>0.0</td>\n",
       "      <td>1.0</td>\n",
       "      <td>1.3875</td>\n",
       "      <td>1.1125</td>\n",
       "      <td>0.3750</td>\n",
       "      <td>24.777463</td>\n",
       "      <td>11.339800</td>\n",
       "      <td>5.556502</td>\n",
       "      <td>6.662133</td>\n",
       "    </tr>\n",
       "    <tr>\n",
       "      <th>3</th>\n",
       "      <td>1.0</td>\n",
       "      <td>0.0</td>\n",
       "      <td>0.0</td>\n",
       "      <td>1.7000</td>\n",
       "      <td>1.4125</td>\n",
       "      <td>0.5000</td>\n",
       "      <td>50.660556</td>\n",
       "      <td>20.354941</td>\n",
       "      <td>10.991839</td>\n",
       "      <td>14.996885</td>\n",
       "    </tr>\n",
       "    <tr>\n",
       "      <th>4</th>\n",
       "      <td>0.0</td>\n",
       "      <td>1.0</td>\n",
       "      <td>0.0</td>\n",
       "      <td>1.2500</td>\n",
       "      <td>1.0125</td>\n",
       "      <td>0.3375</td>\n",
       "      <td>23.289114</td>\n",
       "      <td>11.977664</td>\n",
       "      <td>4.507570</td>\n",
       "      <td>5.953395</td>\n",
       "    </tr>\n",
       "  </tbody>\n",
       "</table>\n",
       "</div>"
      ],
      "text/plain": [
       "   onehotencoder__Sex_F  onehotencoder__Sex_I  onehotencoder__Sex_M  \\\n",
       "0                   0.0                   1.0                   0.0   \n",
       "1                   0.0                   1.0                   0.0   \n",
       "2                   0.0                   0.0                   1.0   \n",
       "3                   1.0                   0.0                   0.0   \n",
       "4                   0.0                   1.0                   0.0   \n",
       "\n",
       "   remainder__Length  remainder__Diameter  remainder__Height  \\\n",
       "0             1.5250               1.1750             0.3750   \n",
       "1             1.1000               0.8250             0.2750   \n",
       "2             1.3875               1.1125             0.3750   \n",
       "3             1.7000               1.4125             0.5000   \n",
       "4             1.2500               1.0125             0.3375   \n",
       "\n",
       "   remainder__Weight  remainder__Shucked Weight  remainder__Viscera Weight  \\\n",
       "0          28.973189                  12.728926                   6.647958   \n",
       "1          10.418441                   4.521745                   2.324659   \n",
       "2          24.777463                  11.339800                   5.556502   \n",
       "3          50.660556                  20.354941                  10.991839   \n",
       "4          23.289114                  11.977664                   4.507570   \n",
       "\n",
       "   remainder__Shell Weight  \n",
       "0                 8.348928  \n",
       "1                 3.401940  \n",
       "2                 6.662133  \n",
       "3                14.996885  \n",
       "4                 5.953395  "
      ]
     },
     "execution_count": 8,
     "metadata": {},
     "output_type": "execute_result"
    }
   ],
   "source": [
    "X.head()\n"
   ]
  },
  {
   "cell_type": "code",
   "execution_count": 9,
   "id": "c163be5f",
   "metadata": {
    "execution": {
     "iopub.execute_input": "2023-06-14T11:14:44.971163Z",
     "iopub.status.busy": "2023-06-14T11:14:44.970596Z",
     "iopub.status.idle": "2023-06-14T11:14:44.987667Z",
     "shell.execute_reply": "2023-06-14T11:14:44.986592Z"
    },
    "papermill": {
     "duration": 0.026786,
     "end_time": "2023-06-14T11:14:44.990265",
     "exception": false,
     "start_time": "2023-06-14T11:14:44.963479",
     "status": "completed"
    },
    "tags": []
   },
   "outputs": [],
   "source": [
    "from sklearn.model_selection import train_test_split\n",
    "\n",
    "train_X, val_X, train_y, val_y = train_test_split(X, y,random_state = 0)\n"
   ]
  },
  {
   "cell_type": "code",
   "execution_count": 10,
   "id": "b0b11c23",
   "metadata": {
    "execution": {
     "iopub.execute_input": "2023-06-14T11:14:45.004649Z",
     "iopub.status.busy": "2023-06-14T11:14:45.003962Z",
     "iopub.status.idle": "2023-06-14T11:15:14.904015Z",
     "shell.execute_reply": "2023-06-14T11:15:14.902536Z"
    },
    "papermill": {
     "duration": 29.909912,
     "end_time": "2023-06-14T11:15:14.906439",
     "exception": false,
     "start_time": "2023-06-14T11:14:44.996527",
     "status": "completed"
    },
    "tags": []
   },
   "outputs": [
    {
     "name": "stdout",
     "output_type": "stream",
     "text": [
      "1.458411386593205\n"
     ]
    }
   ],
   "source": [
    "from sklearn.ensemble import RandomForestRegressor\n",
    "from sklearn.metrics import mean_absolute_error\n",
    "\n",
    "forest_model = RandomForestRegressor(random_state=1)\n",
    "forest_model.fit(train_X, train_y)\n",
    "age_preds = forest_model.predict(val_X)\n",
    "print(mean_absolute_error(val_y, age_preds))"
   ]
  },
  {
   "cell_type": "code",
   "execution_count": 11,
   "id": "aa51b92f",
   "metadata": {
    "execution": {
     "iopub.execute_input": "2023-06-14T11:15:14.921429Z",
     "iopub.status.busy": "2023-06-14T11:15:14.920414Z",
     "iopub.status.idle": "2023-06-14T11:15:15.275919Z",
     "shell.execute_reply": "2023-06-14T11:15:15.274805Z"
    },
    "papermill": {
     "duration": 0.365167,
     "end_time": "2023-06-14T11:15:15.278087",
     "exception": false,
     "start_time": "2023-06-14T11:15:14.912920",
     "status": "completed"
    },
    "tags": []
   },
   "outputs": [
    {
     "name": "stdout",
     "output_type": "stream",
     "text": [
      "1.369068211071406\n"
     ]
    }
   ],
   "source": [
    "\n",
    "\n",
    "# Instantiation\n",
    "xgb_r = xg.XGBRegressor(objective ='reg:squarederror',\n",
    "                  n_estimators = 9, seed = 123)\n",
    "  \n",
    "# Fitting the model\n",
    "xgb_r.fit(train_X, train_y)\n",
    "  \n",
    "# Predict the model\n",
    "pred_xgb = xgb_r.predict(val_X)\n",
    "print(mean_absolute_error(val_y, pred_xgb))"
   ]
  },
  {
   "cell_type": "code",
   "execution_count": 12,
   "id": "f0adccf9",
   "metadata": {
    "execution": {
     "iopub.execute_input": "2023-06-14T11:15:15.292681Z",
     "iopub.status.busy": "2023-06-14T11:15:15.291805Z",
     "iopub.status.idle": "2023-06-14T11:15:15.660320Z",
     "shell.execute_reply": "2023-06-14T11:15:15.659390Z"
    },
    "papermill": {
     "duration": 0.378177,
     "end_time": "2023-06-14T11:15:15.662566",
     "exception": false,
     "start_time": "2023-06-14T11:15:15.284389",
     "status": "completed"
    },
    "tags": []
   },
   "outputs": [
    {
     "name": "stdout",
     "output_type": "stream",
     "text": [
      "1.9097806590499635\n"
     ]
    }
   ],
   "source": [
    "# Train and test set are converted to DMatrix objects,\n",
    "# as it is required by learning API.\n",
    "train_dmatrix = xg.DMatrix(data = train_X, label = train_y)\n",
    "test_dmatrix = xg.DMatrix(data = val_X, label = val_y)\n",
    "  \n",
    "# Parameter dictionary specifying base learner\n",
    "param = {\"booster\":\"gblinear\", \"objective\":\"reg:squarederror\", 'alpha': 10,'learning_rate': 1.0}\n",
    "  \n",
    "xgb_r = xg.train(params = param, dtrain = train_dmatrix, num_boost_round = 100)\n",
    "pred = xgb_r.predict(test_dmatrix)\n",
    "\n",
    "print(mean_absolute_error(val_y, pred))"
   ]
  },
  {
   "cell_type": "code",
   "execution_count": 13,
   "id": "59f78871",
   "metadata": {
    "execution": {
     "iopub.execute_input": "2023-06-14T11:15:15.678253Z",
     "iopub.status.busy": "2023-06-14T11:15:15.677480Z",
     "iopub.status.idle": "2023-06-14T11:15:15.682391Z",
     "shell.execute_reply": "2023-06-14T11:15:15.681342Z"
    },
    "papermill": {
     "duration": 0.015403,
     "end_time": "2023-06-14T11:15:15.684789",
     "exception": false,
     "start_time": "2023-06-14T11:15:15.669386",
     "status": "completed"
    },
    "tags": []
   },
   "outputs": [],
   "source": [
    "# #=========================================================================\n",
    "# # XGBoost regression: \n",
    "# # Parameters: \n",
    "# # n_estimators  \"Number of gradient boosted trees. Equivalent to number \n",
    "# #                of boosting rounds.\"\n",
    "# # learning_rate \"Boosting learning rate (also known as “eta”)\"\n",
    "# # max_depth     \"Maximum depth of a tree. Increasing this value will make \n",
    "# #                the model more complex and more likely to overfit.\" \n",
    "# #=========================================================================\n",
    "# regressor=xg.XGBRegressor(eval_metric='mae')\n",
    "\n",
    "# #=========================================================================\n",
    "# # exhaustively search for the optimal hyperparameters\n",
    "# #=========================================================================\n",
    "# from sklearn.model_selection import GridSearchCV\n",
    "# # set up our search grid\n",
    "# param_grid = {\"max_depth\":    [6, 10],\n",
    "#               \"n_estimators\": [700, 1000],\n",
    "#               \"learning_rate\": [0.015, 0.2, 0.4, 0.8]}\n",
    "\n",
    "# # try out every combination of the above values\n",
    "# search = GridSearchCV(regressor, param_grid, cv=5).fit(train_X, train_y)\n",
    "\n",
    "# print(\"The best hyperparameters are \",search.best_params_)"
   ]
  },
  {
   "cell_type": "code",
   "execution_count": 14,
   "id": "91280ce6",
   "metadata": {
    "execution": {
     "iopub.execute_input": "2023-06-14T11:15:15.699535Z",
     "iopub.status.busy": "2023-06-14T11:15:15.699168Z",
     "iopub.status.idle": "2023-06-14T11:15:15.704355Z",
     "shell.execute_reply": "2023-06-14T11:15:15.703389Z"
    },
    "papermill": {
     "duration": 0.015394,
     "end_time": "2023-06-14T11:15:15.706617",
     "exception": false,
     "start_time": "2023-06-14T11:15:15.691223",
     "status": "completed"
    },
    "tags": []
   },
   "outputs": [],
   "source": [
    "# regressor=xgb.XGBRegressor(learning_rate = search.best_params_[\"learning_rate\"],\n",
    "#                            n_estimators  = search.best_params_[\"n_estimators\"],\n",
    "#                            max_depth     = search.best_params_[\"max_depth\"],\n",
    "#                            eval_metric='mae')\n",
    "\n",
    "# regressor.fit(train_X, train_y)\n",
    "\n",
    "# #=========================================================================\n",
    "# # To use early_stopping_rounds: \n",
    "# # \"Validation metric needs to improve at least once in every \n",
    "# # early_stopping_rounds round(s) to continue training.\"\n",
    "# #=========================================================================\n",
    "# # first perform a test/train split \n",
    "# #from sklearn.model_selection import train_test_split\n",
    "\n",
    "# #X_train,X_test,y_train,y_test = train_test_split(X_train,y_train, test_size = 0.2)\n",
    "# #regressor.fit(X_train, y_train, early_stopping_rounds=6, eval_set=[(X_test, y_test)], verbose=False)\n",
    "\n",
    "# #=========================================================================\n",
    "# # use the model to predict the prices for the test data\n",
    "# #=========================================================================\n",
    "# predictions_best_hyper_params = regressor.predict(val_X)\n",
    "# print(mean_absolute_error(val_y, predictions_best_hyper_params))"
   ]
  },
  {
   "cell_type": "code",
   "execution_count": 15,
   "id": "bb0305d5",
   "metadata": {
    "execution": {
     "iopub.execute_input": "2023-06-14T11:15:15.721635Z",
     "iopub.status.busy": "2023-06-14T11:15:15.721250Z",
     "iopub.status.idle": "2023-06-14T11:15:15.725921Z",
     "shell.execute_reply": "2023-06-14T11:15:15.724913Z"
    },
    "papermill": {
     "duration": 0.014959,
     "end_time": "2023-06-14T11:15:15.728167",
     "exception": false,
     "start_time": "2023-06-14T11:15:15.713208",
     "status": "completed"
    },
    "tags": []
   },
   "outputs": [],
   "source": [
    "# from xgboost import plot_importance\n",
    "# import matplotlib.pyplot as plt\n",
    "# plt.style.use('fivethirtyeight')\n",
    "# plt.rcParams.update({'font.size': 16})\n",
    "\n",
    "# fig, ax = plt.subplots(figsize=(12,6))\n",
    "# plot_importance(\n",
    "#     , max_num_features=8, ax=ax)\n",
    "# plt.show();"
   ]
  },
  {
   "cell_type": "markdown",
   "id": "9403700c",
   "metadata": {
    "papermill": {
     "duration": 0.006112,
     "end_time": "2023-06-14T11:15:15.741113",
     "exception": false,
     "start_time": "2023-06-14T11:15:15.735001",
     "status": "completed"
    },
    "tags": []
   },
   "source": [
    "Build a pipeline for cross validation on the training dataset"
   ]
  },
  {
   "cell_type": "code",
   "execution_count": 16,
   "id": "6e03bde7",
   "metadata": {
    "execution": {
     "iopub.execute_input": "2023-06-14T11:15:15.756393Z",
     "iopub.status.busy": "2023-06-14T11:15:15.755609Z",
     "iopub.status.idle": "2023-06-14T11:15:19.191824Z",
     "shell.execute_reply": "2023-06-14T11:15:19.190254Z"
    },
    "papermill": {
     "duration": 3.446444,
     "end_time": "2023-06-14T11:15:19.194229",
     "exception": false,
     "start_time": "2023-06-14T11:15:15.747785",
     "status": "completed"
    },
    "tags": []
   },
   "outputs": [
    {
     "name": "stdout",
     "output_type": "stream",
     "text": [
      "[1.4665600852651213, 1.4570286475682879, 1.441039307128581, 1.4668887408394404, 1.4491672218520986, 1.4305129913391073, 1.4670219853431046, 1.4421052631578948, 1.4450366422385077, 1.4591605596269155]\n",
      "1.452452144435906\n"
     ]
    }
   ],
   "source": [
    "df_inp = df_combined\n",
    "X_train = df_inp[['Length', 'Diameter', 'Height', 'Weight', 'Shucked Weight', 'Viscera Weight', 'Shell Weight', \n",
    "                  'is_M', 'is_F', 'is_I']].to_numpy()\n",
    "y_train = df_inp['Age'].to_numpy()\n",
    "kfold = StratifiedKFold(10, shuffle=True).split(X_train, y_train)\n",
    "my_tree = DecisionTreeClassifier(max_depth=8)\n",
    "scores = []\n",
    "for k, (train, test) in enumerate(kfold):\n",
    "    my_tree.fit(X_train[train], y_train[train])\n",
    "    out = my_tree.predict(X_train[test])\n",
    "    #out = np.round(out/) # consider adding a small constant bias because the error seems to be biased, or optimizing the division factor\n",
    "    out = np.round(out) # consider adding a small constant bias because the error seems to be biased, or optimizing the division factor\n",
    "    score = np.abs(out - y_train[test]).mean()\n",
    "    scores.append(score)\n",
    "print(scores)\n",
    "print(np.mean(scores))\n"
   ]
  },
  {
   "cell_type": "code",
   "execution_count": null,
   "id": "e6c3de03",
   "metadata": {
    "papermill": {
     "duration": 0.006123,
     "end_time": "2023-06-14T11:15:19.206838",
     "exception": false,
     "start_time": "2023-06-14T11:15:19.200715",
     "status": "completed"
    },
    "tags": []
   },
   "outputs": [],
   "source": []
  }
 ],
 "metadata": {
  "kernelspec": {
   "display_name": "Python 3",
   "language": "python",
   "name": "python3"
  },
  "language_info": {
   "codemirror_mode": {
    "name": "ipython",
    "version": 3
   },
   "file_extension": ".py",
   "mimetype": "text/x-python",
   "name": "python",
   "nbconvert_exporter": "python",
   "pygments_lexer": "ipython3",
   "version": "3.10.10"
  },
  "papermill": {
   "default_parameters": {},
   "duration": 47.578159,
   "end_time": "2023-06-14T11:15:20.235517",
   "environment_variables": {},
   "exception": null,
   "input_path": "__notebook__.ipynb",
   "output_path": "__notebook__.ipynb",
   "parameters": {},
   "start_time": "2023-06-14T11:14:32.657358",
   "version": "2.4.0"
  }
 },
 "nbformat": 4,
 "nbformat_minor": 5
}
